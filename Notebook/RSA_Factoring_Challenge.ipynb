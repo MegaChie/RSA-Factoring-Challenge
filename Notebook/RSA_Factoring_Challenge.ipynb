{
  "nbformat": 4,
  "nbformat_minor": 0,
  "metadata": {
    "colab": {
      "provenance": [],
      "authorship_tag": "ABX9TyMsGGmL+XEhGJK+3HQ7m/3u",
      "include_colab_link": true
    },
    "kernelspec": {
      "name": "python3",
      "display_name": "Python 3"
    },
    "language_info": {
      "name": "python"
    }
  },
  "cells": [
    {
      "cell_type": "markdown",
      "metadata": {
        "id": "view-in-github",
        "colab_type": "text"
      },
      "source": [
        "<a href=\"https://colab.research.google.com/github/MegaChie/RSA-Factoring-Challenge/blob/main/Notebook/RSA_Factoring_Challenge.ipynb\" target=\"_parent\"><img src=\"https://colab.research.google.com/assets/colab-badge.svg\" alt=\"Open In Colab\"/></a>"
      ]
    },
    {
      "cell_type": "markdown",
      "source": [
        "First i'll download my test file. the file contains the numbers given in the example in ALX website. i already uploaded the file to to GoogleDrive before hand."
      ],
      "metadata": {
        "id": "uQOYjqJJgRyZ"
      }
    },
    {
      "cell_type": "code",
      "source": [
        "# !wget https://drive.google.com/file/d/1nLMmd4wWocfI6BjlUELFzUwqpMgpvT3b/view?usp=share_link\n",
        "!python -V"
      ],
      "metadata": {
        "colab": {
          "base_uri": "https://localhost:8080/"
        },
        "id": "E8kATuwygttU",
        "outputId": "3ffada09-f68f-4764-c9c2-2295f4b71bb7"
      },
      "execution_count": null,
      "outputs": [
        {
          "output_type": "stream",
          "name": "stdout",
          "text": [
            "Python 3.8.10\n"
          ]
        }
      ]
    },
    {
      "cell_type": "markdown",
      "source": [
        "Apearntly, downloading the file from GoogleDrive messes up the file and i can not read it's content. one workaround i did was to write the file myself, the content is the same as of the file before i upload it."
      ],
      "metadata": {
        "id": "ZuVqfJyGIxRC"
      }
    },
    {
      "cell_type": "code",
      "source": [
        "numbers = [4, 12, 34, 128, 1024, 4958, 1718944270642558716715, 9, 99, 999, 9999,\n",
        "           9797973, 49, 239809320265259]\n",
        "filename = \"factors\"\n",
        "writer = open(filename, 'w')\n",
        "for place in numbers:\n",
        "\twriter.write(str(place) + '\\n')\n",
        "writer.close()"
      ],
      "metadata": {
        "id": "pFinGhrb1fuS"
      },
      "execution_count": null,
      "outputs": []
    },
    {
      "cell_type": "markdown",
      "source": [
        "after creating the file, now start trial phase."
      ],
      "metadata": {
        "id": "-yrIkUbCim2m"
      }
    },
    {
      "cell_type": "code",
      "source": [
        "from math import gcd\n",
        "holder = []\n",
        "fileOpen = open('factors', 'r')\n",
        "data = fileOpen.readlines()\n",
        "temp = ([s.replace('\\n', '') for s in data])\n",
        "fileOpen.close\n",
        "for place in data:\n",
        "    holder.append(int(place))\n",
        "# up till here i have moved the file content into an integer list.\n",
        "holder.sort()\n",
        "for place in holder:\n",
        "    first = 2\n",
        "    while first * second != place:\n",
        "        temp = gcd(first, place)\n",
        "        if temp == 1:\n",
        "            first += 1\n",
        "        second = int(place / temp)\n",
        "    print(f\"{place}:{first}*{second}\")\n"
      ],
      "metadata": {
        "id": "_P44GxHQisM8",
        "colab": {
          "base_uri": "https://localhost:8080/"
        },
        "outputId": "2d80b809-c6f6-4664-8f04-1505e1bd0dc9"
      },
      "execution_count": null,
      "outputs": [
        {
          "output_type": "stream",
          "name": "stdout",
          "text": [
            "[2]\n",
            "[2, 2]\n",
            "[2, 2, 2]\n",
            "[2, 2, 2, 2]\n",
            "[2, 2, 2, 2, 2]\n",
            "[2, 2, 2, 2, 2, 2]\n",
            "[2, 2, 2, 2, 2, 2, 2]\n",
            "[2, 2, 2, 2, 2, 2, 2, 2]\n",
            "[2, 2, 2, 2, 2, 2, 2, 2, 2]\n",
            "[2, 2, 2, 2, 2, 2, 2, 2, 2, 2]\n",
            "[2, 2, 2, 2, 2, 2, 2, 2, 2, 2, 2]\n",
            "[2, 2, 2, 2, 2, 2, 2, 2, 2, 2, 2, 2]\n",
            "[2, 2, 2, 2, 2, 2, 2, 2, 2, 2, 2, 2, 2]\n",
            "[2, 2, 2, 2, 2, 2, 2, 2, 2, 2, 2, 2, 2, 2]\n"
          ]
        }
      ]
    },
    {
      "cell_type": "code",
      "source": [
        "for place in holder:\n",
        "    first, second, i = holder[0], place, 0\n",
        "    while first < second:\n",
        "        i += 1\n",
        "        if place % i == 0:\n",
        "            first = i\n",
        "            second = place//first\n",
        "            print(f\"{place}:{first}*{second}\")\n",
        "            break"
      ],
      "metadata": {
        "id": "-tMr_3hc25HZ"
      },
      "execution_count": null,
      "outputs": []
    },
    {
      "cell_type": "markdown",
      "source": [
        "Currntly the method found above only gives 1 times the number. not suitable. so am opting it out from the fianal code.\n",
        "also correct, the checker of the website give 6 correct output out of 77."
      ],
      "metadata": {
        "id": "Hd1HHinlalRa"
      }
    },
    {
      "cell_type": "code",
      "source": [
        "import sys\n",
        "from math import gcd\n",
        "argumentVector = sys.argv[1:]\n",
        "argumentCount = len(argumentVector)\n",
        "holder = []\n",
        "fileOpen = open(sys.argv[1], 'r')\n",
        "data = fileOpen.readlines()\n",
        "temp = ([s.replace('\\n', '') for s in data])\n",
        "fileOpen.close\n",
        "for place in data:\n",
        "    holder.append(int(place))\n",
        "holder.sort()\n",
        "for place in holder:\n",
        "    first = 2\n",
        "    while first * second != place:\n",
        "        temp = gcd(first, place)\n",
        "        if temp == 1:\n",
        "            first += 1\n",
        "        second = int(place / temp)\n",
        "    print(f\"{place}:{first}*{second}\")"
      ],
      "metadata": {
        "id": "vwWojiS2z0Gb",
        "colab": {
          "base_uri": "https://localhost:8080/",
          "height": 235
        },
        "outputId": "94822257-8150-4261-9a7f-791f219a2007"
      },
      "execution_count": null,
      "outputs": [
        {
          "output_type": "error",
          "ename": "FileNotFoundError",
          "evalue": "ignored",
          "traceback": [
            "\u001b[0;31m---------------------------------------------------------------------------\u001b[0m",
            "\u001b[0;31mFileNotFoundError\u001b[0m                         Traceback (most recent call last)",
            "\u001b[0;32m<ipython-input-66-b2e5dfd3603b>\u001b[0m in \u001b[0;36m<module>\u001b[0;34m\u001b[0m\n\u001b[1;32m      4\u001b[0m \u001b[0margumentCount\u001b[0m \u001b[0;34m=\u001b[0m \u001b[0mlen\u001b[0m\u001b[0;34m(\u001b[0m\u001b[0margumentVector\u001b[0m\u001b[0;34m)\u001b[0m\u001b[0;34m\u001b[0m\u001b[0;34m\u001b[0m\u001b[0m\n\u001b[1;32m      5\u001b[0m \u001b[0mholder\u001b[0m \u001b[0;34m=\u001b[0m \u001b[0;34m[\u001b[0m\u001b[0;34m]\u001b[0m\u001b[0;34m\u001b[0m\u001b[0;34m\u001b[0m\u001b[0m\n\u001b[0;32m----> 6\u001b[0;31m \u001b[0mfileOpen\u001b[0m \u001b[0;34m=\u001b[0m \u001b[0mopen\u001b[0m\u001b[0;34m(\u001b[0m\u001b[0msys\u001b[0m\u001b[0;34m.\u001b[0m\u001b[0margv\u001b[0m\u001b[0;34m[\u001b[0m\u001b[0;36m1\u001b[0m\u001b[0;34m]\u001b[0m\u001b[0;34m,\u001b[0m \u001b[0;34m'r'\u001b[0m\u001b[0;34m)\u001b[0m\u001b[0;34m\u001b[0m\u001b[0;34m\u001b[0m\u001b[0m\n\u001b[0m\u001b[1;32m      7\u001b[0m \u001b[0mdata\u001b[0m \u001b[0;34m=\u001b[0m \u001b[0mfileOpen\u001b[0m\u001b[0;34m.\u001b[0m\u001b[0mreadlines\u001b[0m\u001b[0;34m(\u001b[0m\u001b[0;34m)\u001b[0m\u001b[0;34m\u001b[0m\u001b[0;34m\u001b[0m\u001b[0m\n\u001b[1;32m      8\u001b[0m \u001b[0mtemp\u001b[0m \u001b[0;34m=\u001b[0m \u001b[0;34m(\u001b[0m\u001b[0;34m[\u001b[0m\u001b[0ms\u001b[0m\u001b[0;34m.\u001b[0m\u001b[0mreplace\u001b[0m\u001b[0;34m(\u001b[0m\u001b[0;34m'\\n'\u001b[0m\u001b[0;34m,\u001b[0m \u001b[0;34m''\u001b[0m\u001b[0;34m)\u001b[0m \u001b[0;32mfor\u001b[0m \u001b[0ms\u001b[0m \u001b[0;32min\u001b[0m \u001b[0mdata\u001b[0m\u001b[0;34m]\u001b[0m\u001b[0;34m)\u001b[0m\u001b[0;34m\u001b[0m\u001b[0;34m\u001b[0m\u001b[0m\n",
            "\u001b[0;31mFileNotFoundError\u001b[0m: [Errno 2] No such file or directory: '-f'"
          ]
        }
      ]
    },
    {
      "cell_type": "code",
      "source": [
        "from math import gcd\n",
        "print(\"{}\".format(int(1718944270642558716715 / 5)))\n",
        "if 5 * 343788854128511743343 == 1718944270642558716715:\n",
        "    print(\"true\")\n",
        "else:\n",
        "    print(\"fal\")\n",
        "for count in range(21):\n",
        "    print(f\"{count}  {gcd(count, 1718944270642558716715)}\")"
      ],
      "metadata": {
        "colab": {
          "base_uri": "https://localhost:8080/"
        },
        "id": "8XdWVRk6BJ5n",
        "outputId": "cf21438a-4c7c-4ec1-cf88-8fcdf324f6aa"
      },
      "execution_count": null,
      "outputs": [
        {
          "output_type": "stream",
          "name": "stdout",
          "text": [
            "343788854128511746048\n",
            "true\n",
            "0  1718944270642558716715\n",
            "1  1\n",
            "2  1\n",
            "3  1\n",
            "4  1\n",
            "5  5\n",
            "6  1\n",
            "7  7\n",
            "8  1\n",
            "9  1\n",
            "10  5\n",
            "11  1\n",
            "12  1\n",
            "13  1\n",
            "14  7\n",
            "15  5\n",
            "16  1\n",
            "17  1\n",
            "18  1\n",
            "19  1\n",
            "20  5\n"
          ]
        }
      ]
    },
    {
      "cell_type": "code",
      "source": [
        "exp_number = \"{:e}\".format(110102)\n",
        "float_number = float(exp_number)\n",
        "print(\"Exponent Number:\",exp_number)\n",
        "print(\"Float Number:\",float_number)"
      ],
      "metadata": {
        "colab": {
          "base_uri": "https://localhost:8080/"
        },
        "id": "IOe9CRDzy0OG",
        "outputId": "3414b57e-6184-4f56-db64-55f40d3feaa2"
      },
      "execution_count": null,
      "outputs": [
        {
          "output_type": "stream",
          "name": "stdout",
          "text": [
            "Exponent Number: 1.101020e+05\n",
            "Float Number: 110102.0\n"
          ]
        }
      ]
    }
  ]
}